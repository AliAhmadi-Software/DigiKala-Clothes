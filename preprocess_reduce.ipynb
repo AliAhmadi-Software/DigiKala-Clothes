{
 "cells": [
  {
   "cell_type": "code",
   "execution_count": 1,
   "metadata": {},
   "outputs": [],
   "source": [
    "import pandas as pd\n",
    "import re\n",
    "import json\n",
    "import requests\n",
    "import numpy as np\n",
    "from os import walk, getcwd"
   ]
  },
  {
   "cell_type": "code",
   "execution_count": 7,
   "metadata": {},
   "outputs": [
    {
     "name": "stdout",
     "output_type": "stream",
     "text": [
      "clean_Data/category-baby-clothing.csv\n",
      "clean_Data/category-boys-clothing.csv\n",
      "clean_Data/category-girls-clothing.csv\n",
      "clean_Data/category-men-homewear.csv\n",
      "clean_Data/category-men-hoodies.csv\n",
      "clean_Data/category-men-jeans.csv\n",
      "clean_Data/category-men-outwear.csv\n",
      "clean_Data/category-men-shirts.csv\n",
      "clean_Data/category-men-shorts.csv\n",
      "clean_Data/category-men-tee-shirts.csv\n",
      "clean_Data/category-men-tops.csv\n",
      "clean_Data/category-men-trousers-jumpsuits.csv\n",
      "clean_Data/category-men-underwear.csv\n",
      "clean_Data/category-women-dresses.csv\n",
      "clean_Data/category-women-homewear.csv\n",
      "clean_Data/category-women-hoodies.csv\n",
      "clean_Data/category-women-jeans.csv\n",
      "clean_Data/category-women-knitwear.csv\n",
      "clean_Data/category-women-legging.csv\n",
      "clean_Data/category-women-outwear.csv\n",
      "clean_Data/category-women-polo-shirt.csv\n",
      "clean_Data/category-women-shirts.csv\n",
      "clean_Data/category-women-skirts.csv\n",
      "clean_Data/category-women-sportwear.csv\n",
      "clean_Data/category-women-sweatshirts.csv\n",
      "clean_Data/category-women-tee-shirts.csv\n",
      "clean_Data/category-women-tops-and-croptops.csv\n",
      "clean_Data/category-women-trousers-and-jumpsuits.csv\n",
      "clean_Data/category-women-tunic.csv\n",
      "clean_Data/category-women-underwear.csv\n"
     ]
    }
   ],
   "source": [
    "# folder path\n",
    "dir_path = getcwd() + '/clean_Data'\n",
    "\n",
    "# list to store files name\n",
    "raw_data = []\n",
    "for (dir_path, dir_names, file_names) in walk(dir_path):\n",
    "    raw_data.extend(file_names)\n",
    "\n",
    "\n",
    "for file_name in raw_data:\n",
    "    data_path = f'clean_Data/{file_name}' \n",
    "    print(data_path)\n",
    "    df = pd.read_csv(data_path)\n",
    "    df.drop(columns=['Unnamed: 0', 'price', 'discount', 'star'], inplace=True)\n",
    "    df.to_csv(f'clean_reduced_Data/{file_name}')\n"
   ]
  }
 ],
 "metadata": {
  "kernelspec": {
   "display_name": "Python 3.10.6 ('DEF')",
   "language": "python",
   "name": "python3"
  },
  "language_info": {
   "codemirror_mode": {
    "name": "ipython",
    "version": 3
   },
   "file_extension": ".py",
   "mimetype": "text/x-python",
   "name": "python",
   "nbconvert_exporter": "python",
   "pygments_lexer": "ipython3",
   "version": "3.10.6"
  },
  "orig_nbformat": 4,
  "vscode": {
   "interpreter": {
    "hash": "78dcd389e872d4bc4f029fdb209fd116c81ad9cd5ea1c66695ad265d379c0c41"
   }
  }
 },
 "nbformat": 4,
 "nbformat_minor": 2
}
